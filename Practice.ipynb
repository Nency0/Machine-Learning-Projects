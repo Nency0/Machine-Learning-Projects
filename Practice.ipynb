{
 "cells": [
  {
   "cell_type": "markdown",
   "id": "a2a2ea6c",
   "metadata": {},
   "source": [
    "### Checking biasness  "
   ]
  },
  {
   "cell_type": "code",
   "execution_count": 1,
   "id": "23a7896a",
   "metadata": {},
   "outputs": [],
   "source": [
    "def bias(df):\n",
    "    for i in df.columns:\n",
    "        plt.figure()\n",
    "        \n",
    "        s=sns.boxplot(x=data['churn'],y= data[i])\n",
    "        figure=s.get_figure()"
   ]
  },
  {
   "cell_type": "code",
   "execution_count": null,
   "id": "e580651a",
   "metadata": {},
   "outputs": [],
   "source": [
    "lreg = AdaBoostClassifier()\n",
    "sfs1 = sfs(lreg, k_features=10, forward=True, verbose=2, scoring='accuracy')"
   ]
  },
  {
   "cell_type": "code",
   "execution_count": null,
   "id": "49f8e3c4",
   "metadata": {},
   "outputs": [],
   "source": [
    "sfs1 = sfs1.fit(features_df, traget_df)\n",
    "sfs1"
   ]
  },
  {
   "cell_type": "code",
   "execution_count": null,
   "id": "3a63607c",
   "metadata": {},
   "outputs": [],
   "source": [
    "feat_names = list(sfs1.k_feature_names_)\n",
    "print(feat_names)"
   ]
  }
 ],
 "metadata": {
  "kernelspec": {
   "display_name": "Python 3 (ipykernel)",
   "language": "python",
   "name": "python3"
  },
  "language_info": {
   "codemirror_mode": {
    "name": "ipython",
    "version": 3
   },
   "file_extension": ".py",
   "mimetype": "text/x-python",
   "name": "python",
   "nbconvert_exporter": "python",
   "pygments_lexer": "ipython3",
   "version": "3.9.13"
  }
 },
 "nbformat": 4,
 "nbformat_minor": 5
}
